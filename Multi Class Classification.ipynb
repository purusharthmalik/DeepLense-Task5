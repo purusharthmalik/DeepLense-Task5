{
 "cells": [
  {
   "cell_type": "markdown",
   "metadata": {},
   "source": [
    "## Multi-Class Classification\n",
    "\n",
    "We will follow a simple approach that will compress the essential information from the images into a latent space and a neural network will then be trained on that latent space (plus some noise for robustness).\n",
    "\n",
    "### Setup\n",
    "- PyTorch 2.6.0\n",
    "- NVIDIA A10G\n",
    "- Ubuntu 22.04\n",
    "\n",
    "### Approach\n",
    "\n",
    "- We will use ResNet18 with pretrained weights for feature extraction from images.\n",
    "- We will remove the last layer and change the first layer to make it compatible with a batch size of 64.\n",
    "- The noise vector will be generated from a normal distribution and added to the latent vector.\n",
    "- The noisy latent will be passed to a simple MLP with a dropout layer to add some more robustness.\n",
    "- At the end, we will look at OvR ROC-AUC score and the corresponding plot."
   ]
  },
  {
   "cell_type": "code",
   "execution_count": 72,
   "metadata": {},
   "outputs": [],
   "source": [
    "import os\n",
    "import numpy as np\n",
    "\n",
    "TRAIN_PATH = \"./test1/dataset/train/\"\n",
    "VAL_PATH = \"./test1/dataset/val/\"\n",
    "\n",
    "classes = ['no', 'sphere', 'vort']\n",
    "X_train, y_train = [], []\n",
    "\n",
    "for cls in classes:\n",
    "    for file in os.listdir(TRAIN_PATH + cls):\n",
    "        X_train.append(np.load(TRAIN_PATH + cls + '/' + file).squeeze())\n",
    "        y_train.append(cls)\n",
    "\n",
    "X_val, y_val = [], []\n",
    "for cls in classes:\n",
    "    for file in os.listdir(VAL_PATH + cls):\n",
    "        X_val.append(np.load(VAL_PATH + cls + '/' + file).squeeze())\n",
    "        y_val.append(cls)"
   ]
  },
  {
   "cell_type": "code",
   "execution_count": 4,
   "metadata": {},
   "outputs": [
    {
     "data": {
      "text/plain": [
       "(Counter({'no': 10000, 'sphere': 10000, 'vort': 10000}),\n",
       " Counter({'no': 2500, 'sphere': 2500, 'vort': 2500}))"
      ]
     },
     "execution_count": 4,
     "metadata": {},
     "output_type": "execute_result"
    }
   ],
   "source": [
    "from collections import Counter\n",
    "\n",
    "X_train, y_train = np.array(X_train), np.array(y_train)\n",
    "X_val, y_val = np.array(X_val), np.array(y_val)\n",
    "\n",
    "Counter(y_train), Counter(y_val)"
   ]
  },
  {
   "cell_type": "markdown",
   "metadata": {},
   "source": [
    "Therefore, the data is distributed uniformly. Let us move on to creating the dataloaders,"
   ]
  },
  {
   "cell_type": "code",
   "execution_count": 37,
   "metadata": {},
   "outputs": [],
   "source": [
    "import torch\n",
    "from torch.utils.data import DataLoader, Dataset\n",
    "from torchvision.transforms import Compose, ToTensor, Resize\n",
    "\n",
    "class image_loader(Dataset):\n",
    "    def __init__(self, images, labels):\n",
    "        super().__init__()\n",
    "        self.class_map = {'no':[0], \n",
    "                          'sphere':[1],\n",
    "                          'vort':[2]}\n",
    "        self.transform = Compose([\n",
    "            ToTensor(),\n",
    "            Resize((224, 224)),\n",
    "        ])\n",
    "        self.images = images\n",
    "        self.labels = labels\n",
    "        \n",
    "    def __len__(self):\n",
    "        return len(self.images)\n",
    "    \n",
    "    def __getitem__(self, idx):\n",
    "        img = self.transform(self.images[idx])\n",
    "        return img, torch.Tensor(self.class_map[self.labels[idx]])\n",
    "    \n",
    "train_data = image_loader(X_train, y_train)\n",
    "test_data = image_loader(X_val, y_val)\n",
    "\n",
    "train_loader = DataLoader(train_data, batch_size=64, shuffle=True)\n",
    "test_loader = DataLoader(test_data, batch_size=64, shuffle=False)"
   ]
  },
  {
   "cell_type": "markdown",
   "metadata": {},
   "source": [
    "**We want to resize the image to (224, 244) so as to make them compatible with ResNet18.**"
   ]
  },
  {
   "cell_type": "code",
   "execution_count": null,
   "metadata": {},
   "outputs": [
    {
     "data": {
      "text/plain": [
       "[tensor([[[[0.0111, 0.0117, 0.0126,  ..., 0.0146, 0.0124, 0.0099],\n",
       "           [0.0117, 0.0111, 0.0104,  ..., 0.0107, 0.0102, 0.0099],\n",
       "           [0.0123, 0.0104, 0.0084,  ..., 0.0082, 0.0092, 0.0105],\n",
       "           ...,\n",
       "           [0.0113, 0.0102, 0.0092,  ..., 0.0148, 0.0114, 0.0072],\n",
       "           [0.0068, 0.0074, 0.0084,  ..., 0.0138, 0.0115, 0.0080],\n",
       "           [0.0012, 0.0050, 0.0091,  ..., 0.0123, 0.0111, 0.0086]]],\n",
       " \n",
       " \n",
       "         [[[0.0087, 0.0136, 0.0170,  ..., 0.0091, 0.0080, 0.0074],\n",
       "           [0.0099, 0.0121, 0.0144,  ..., 0.0118, 0.0099, 0.0080],\n",
       "           [0.0105, 0.0100, 0.0112,  ..., 0.0140, 0.0112, 0.0080],\n",
       "           ...,\n",
       "           [0.0107, 0.0116, 0.0128,  ..., 0.0119, 0.0126, 0.0140],\n",
       "           [0.0123, 0.0117, 0.0109,  ..., 0.0114, 0.0108, 0.0112],\n",
       "           [0.0148, 0.0117, 0.0082,  ..., 0.0102, 0.0080, 0.0074]]],\n",
       " \n",
       " \n",
       "         [[[0.0035, 0.0082, 0.0129,  ..., 0.0076, 0.0076, 0.0070],\n",
       "           [0.0076, 0.0085, 0.0096,  ..., 0.0080, 0.0073, 0.0070],\n",
       "           [0.0111, 0.0087, 0.0069,  ..., 0.0083, 0.0073, 0.0076],\n",
       "           ...,\n",
       "           [0.0094, 0.0086, 0.0085,  ..., 0.0117, 0.0099, 0.0077],\n",
       "           [0.0088, 0.0085, 0.0086,  ..., 0.0125, 0.0108, 0.0082],\n",
       "           [0.0093, 0.0093, 0.0091,  ..., 0.0128, 0.0123, 0.0105]]],\n",
       " \n",
       " \n",
       "         ...,\n",
       " \n",
       " \n",
       "         [[[0.0091, 0.0078, 0.0074,  ..., 0.0063, 0.0136, 0.0221],\n",
       "           [0.0065, 0.0068, 0.0077,  ..., 0.0105, 0.0130, 0.0155],\n",
       "           [0.0050, 0.0071, 0.0093,  ..., 0.0134, 0.0116, 0.0091],\n",
       "           ...,\n",
       "           [0.0115, 0.0119, 0.0116,  ..., 0.0126, 0.0118, 0.0106],\n",
       "           [0.0110, 0.0110, 0.0106,  ..., 0.0146, 0.0146, 0.0136],\n",
       "           [0.0117, 0.0104, 0.0093,  ..., 0.0155, 0.0169, 0.0169]]],\n",
       " \n",
       " \n",
       "         [[[0.0148, 0.0121, 0.0099,  ..., 0.0096, 0.0087, 0.0081],\n",
       "           [0.0134, 0.0124, 0.0119,  ..., 0.0129, 0.0125, 0.0121],\n",
       "           [0.0128, 0.0128, 0.0132,  ..., 0.0151, 0.0149, 0.0147],\n",
       "           ...,\n",
       "           [0.0162, 0.0139, 0.0114,  ..., 0.0107, 0.0109, 0.0107],\n",
       "           [0.0135, 0.0131, 0.0120,  ..., 0.0173, 0.0154, 0.0134],\n",
       "           [0.0081, 0.0108, 0.0125,  ..., 0.0242, 0.0202, 0.0161]]],\n",
       " \n",
       " \n",
       "         [[[0.0147, 0.0165, 0.0177,  ..., 0.0107, 0.0086, 0.0049],\n",
       "           [0.0135, 0.0134, 0.0131,  ..., 0.0131, 0.0102, 0.0055],\n",
       "           [0.0129, 0.0111, 0.0093,  ..., 0.0138, 0.0109, 0.0070],\n",
       "           ...,\n",
       "           [0.0136, 0.0129, 0.0127,  ..., 0.0109, 0.0121, 0.0140],\n",
       "           [0.0117, 0.0110, 0.0111,  ..., 0.0091, 0.0125, 0.0159],\n",
       "           [0.0086, 0.0086, 0.0092,  ..., 0.0077, 0.0128, 0.0171]]]],\n",
       "        dtype=torch.float64),\n",
       " tensor([[1.],\n",
       "         [1.],\n",
       "         [1.],\n",
       "         [0.],\n",
       "         [2.],\n",
       "         [0.],\n",
       "         [2.],\n",
       "         [1.],\n",
       "         [2.],\n",
       "         [2.],\n",
       "         [2.],\n",
       "         [2.],\n",
       "         [0.],\n",
       "         [0.],\n",
       "         [2.],\n",
       "         [0.],\n",
       "         [1.],\n",
       "         [1.],\n",
       "         [2.],\n",
       "         [1.],\n",
       "         [0.],\n",
       "         [0.],\n",
       "         [2.],\n",
       "         [2.],\n",
       "         [1.],\n",
       "         [2.],\n",
       "         [2.],\n",
       "         [0.],\n",
       "         [1.],\n",
       "         [1.],\n",
       "         [0.],\n",
       "         [1.],\n",
       "         [1.],\n",
       "         [1.],\n",
       "         [1.],\n",
       "         [2.],\n",
       "         [0.],\n",
       "         [0.],\n",
       "         [1.],\n",
       "         [2.],\n",
       "         [2.],\n",
       "         [1.],\n",
       "         [2.],\n",
       "         [1.],\n",
       "         [1.],\n",
       "         [2.],\n",
       "         [1.],\n",
       "         [1.],\n",
       "         [2.],\n",
       "         [0.],\n",
       "         [0.],\n",
       "         [1.],\n",
       "         [1.],\n",
       "         [2.],\n",
       "         [1.],\n",
       "         [0.],\n",
       "         [1.],\n",
       "         [2.],\n",
       "         [0.],\n",
       "         [2.],\n",
       "         [0.],\n",
       "         [2.],\n",
       "         [2.],\n",
       "         [2.]])]"
      ]
     },
     "execution_count": 38,
     "metadata": {},
     "output_type": "execute_result"
    }
   ],
   "source": [
    "next(iter(train_loader))"
   ]
  },
  {
   "cell_type": "markdown",
   "metadata": {},
   "source": [
    "The batch looks good, let's move to the model building section,"
   ]
  },
  {
   "cell_type": "code",
   "execution_count": null,
   "metadata": {},
   "outputs": [
    {
     "name": "stderr",
     "output_type": "stream",
     "text": [
      "/usr/lib/python3/dist-packages/torchvision/models/_utils.py:208: UserWarning: The parameter 'pretrained' is deprecated since 0.13 and may be removed in the future, please use 'weights' instead.\n",
      "  warnings.warn(\n",
      "/usr/lib/python3/dist-packages/torchvision/models/_utils.py:223: UserWarning: Arguments other than a weight enum or `None` for 'weights' are deprecated since 0.13 and may be removed in the future. The current behavior is equivalent to passing `weights=ResNet18_Weights.IMAGENET1K_V1`. You can also use `weights=ResNet18_Weights.DEFAULT` to get the most up-to-date weights.\n",
      "  warnings.warn(msg)\n",
      "Epoch 1/10:   0%|          | 0/469 [00:00<?, ?it/s, loss=1.11]"
     ]
    },
    {
     "name": "stderr",
     "output_type": "stream",
     "text": [
      "Epoch 1/10: 100%|██████████| 469/469 [00:36<00:00, 12.95it/s, loss=0.896]\n"
     ]
    },
    {
     "name": "stdout",
     "output_type": "stream",
     "text": [
      "Epoch 1/10, Average Loss: 1.0500923096498191\n"
     ]
    },
    {
     "name": "stderr",
     "output_type": "stream",
     "text": [
      "Epoch 2/10: 100%|██████████| 469/469 [00:35<00:00, 13.03it/s, loss=0.388]\n"
     ]
    },
    {
     "name": "stdout",
     "output_type": "stream",
     "text": [
      "Epoch 2/10, Average Loss: 0.5152008765097111\n"
     ]
    },
    {
     "name": "stderr",
     "output_type": "stream",
     "text": [
      "Epoch 3/10: 100%|██████████| 469/469 [00:35<00:00, 13.10it/s, loss=0.291] \n"
     ]
    },
    {
     "name": "stdout",
     "output_type": "stream",
     "text": [
      "Epoch 3/10, Average Loss: 0.2888067308138174\n"
     ]
    },
    {
     "name": "stderr",
     "output_type": "stream",
     "text": [
      "Epoch 4/10: 100%|██████████| 469/469 [00:35<00:00, 13.13it/s, loss=0.237] \n"
     ]
    },
    {
     "name": "stdout",
     "output_type": "stream",
     "text": [
      "Epoch 4/10, Average Loss: 0.23773058279872195\n"
     ]
    },
    {
     "name": "stderr",
     "output_type": "stream",
     "text": [
      "Epoch 5/10: 100%|██████████| 469/469 [00:35<00:00, 13.05it/s, loss=0.259] \n"
     ]
    },
    {
     "name": "stdout",
     "output_type": "stream",
     "text": [
      "Epoch 5/10, Average Loss: 0.1983311168198138\n"
     ]
    },
    {
     "name": "stderr",
     "output_type": "stream",
     "text": [
      "Epoch 6/10: 100%|██████████| 469/469 [00:35<00:00, 13.09it/s, loss=0.112] \n"
     ]
    },
    {
     "name": "stdout",
     "output_type": "stream",
     "text": [
      "Epoch 6/10, Average Loss: 0.16624200166955685\n"
     ]
    },
    {
     "name": "stderr",
     "output_type": "stream",
     "text": [
      "Epoch 7/10: 100%|██████████| 469/469 [00:35<00:00, 13.22it/s, loss=0.14]  \n"
     ]
    },
    {
     "name": "stdout",
     "output_type": "stream",
     "text": [
      "Epoch 7/10, Average Loss: 0.14823855843736547\n"
     ]
    },
    {
     "name": "stderr",
     "output_type": "stream",
     "text": [
      "Epoch 8/10: 100%|██████████| 469/469 [00:36<00:00, 13.03it/s, loss=0.134] \n"
     ]
    },
    {
     "name": "stdout",
     "output_type": "stream",
     "text": [
      "Epoch 8/10, Average Loss: 0.12638686780633132\n"
     ]
    },
    {
     "name": "stderr",
     "output_type": "stream",
     "text": [
      "Epoch 9/10: 100%|██████████| 469/469 [00:35<00:00, 13.04it/s, loss=0.133]  \n"
     ]
    },
    {
     "name": "stdout",
     "output_type": "stream",
     "text": [
      "Epoch 9/10, Average Loss: 0.10557794162451523\n"
     ]
    },
    {
     "name": "stderr",
     "output_type": "stream",
     "text": [
      "Epoch 10/10: 100%|██████████| 469/469 [00:35<00:00, 13.07it/s, loss=0.0707] \n"
     ]
    },
    {
     "name": "stdout",
     "output_type": "stream",
     "text": [
      "Epoch 10/10, Average Loss: 0.0924271395219478\n"
     ]
    },
    {
     "name": "stderr",
     "output_type": "stream",
     "text": [
      "Evaluating: 100%|██████████| 118/118 [00:04<00:00, 27.77it/s, loss=0.319]"
     ]
    },
    {
     "name": "stdout",
     "output_type": "stream",
     "text": [
      "Evaluation Loss: 0.242144891581798\n"
     ]
    },
    {
     "name": "stderr",
     "output_type": "stream",
     "text": [
      "\n"
     ]
    }
   ],
   "source": [
    "import torch\n",
    "import torch.nn as nn\n",
    "import torch.optim as optim\n",
    "from tqdm import tqdm\n",
    "import torchvision.models as models\n",
    "\n",
    "class ResNetEncoder(nn.Module):\n",
    "    def __init__(self):\n",
    "        super().__init__()\n",
    "        # Load ResNet18\n",
    "        resnet = models.resnet18(pretrained=True)\n",
    "        # Remove the last layer\n",
    "        self.encoder = nn.Sequential(*list(resnet.children())[:-1])\n",
    "        self.encoder[0] = nn.Conv2d(1, 64, kernel_size=7, stride=2, padding=3, bias=False)\n",
    "    \n",
    "    def forward(self, x):\n",
    "        x = self.encoder(x)\n",
    "        return x.view(x.size(0), -1)\n",
    "\n",
    "class NoiseClassifier(nn.Module):\n",
    "    def __init__(self, input_dim, output_dim):\n",
    "        super().__init__()\n",
    "        self.fc = nn.Sequential(\n",
    "            nn.Linear(input_dim, 512),\n",
    "            nn.ReLU(),\n",
    "            nn.Dropout(0.2),\n",
    "            nn.Linear(512, output_dim)\n",
    "        )\n",
    "    \n",
    "    def forward(self, latent):\n",
    "        return self.fc(latent)\n",
    "\n",
    "class ResNetNoiseModel(nn.Module):\n",
    "    def __init__(self, num_classes):\n",
    "        super().__init__()\n",
    "        self.encoder = ResNetEncoder()\n",
    "        encoded_dim = 512 # Final vector of ResNet18 has a shape of 512\n",
    "        self.classifier = NoiseClassifier(encoded_dim, num_classes)\n",
    "    \n",
    "    def forward(self, x, noise):\n",
    "        encoded_x = self.encoder(x)\n",
    "        noisy_latent = encoded_x + noise \n",
    "        classification = self.classifier(noisy_latent)\n",
    "        return classification\n",
    "\n",
    "# Training function\n",
    "def train(model, dataloader, criterion, optimizer, num_epochs=10):\n",
    "    model.train()\n",
    "    for epoch in range(num_epochs):\n",
    "        total_loss = 0\n",
    "        progress_bar = tqdm(dataloader, desc=f\"Epoch {epoch+1}/{num_epochs}\")\n",
    "        \n",
    "        for x, y in progress_bar:\n",
    "            x = x.cuda().float()\n",
    "            y = y.squeeze(1).long().cuda()\n",
    "            # Reducing the magnitude of the noise to avoid too much deviation from the original image\n",
    "            noise = 0.1 * torch.randn(x.size(0), 512).cuda().float()\n",
    "            optimizer.zero_grad()\n",
    "            classification = model(x, noise)\n",
    "            loss = criterion(classification, y)\n",
    "            loss.backward()\n",
    "            optimizer.step()\n",
    "            total_loss += loss.item()\n",
    "            \n",
    "            progress_bar.set_postfix(loss=loss.item())\n",
    "        \n",
    "        print(f\"Epoch {epoch+1}/{num_epochs}, Average Loss: {total_loss / len(dataloader)}\")\n",
    "\n",
    "# Evaluation function\n",
    "def evaluate(model, dataloader, criterion):\n",
    "    model.eval()\n",
    "    total_loss = 0\n",
    "    progress_bar = tqdm(dataloader, desc=\"Evaluating\")\n",
    "\n",
    "    y_pred = torch.Tensor().cuda()\n",
    "    \n",
    "    with torch.no_grad():\n",
    "        for x, y in progress_bar:\n",
    "            x = x.cuda().float()\n",
    "            y = y.squeeze(1).long().cuda()\n",
    "            noise = 0.1 * torch.randn(x.size(0), 512).cuda().float()\n",
    "            classification = model(x, noise)\n",
    "            # The predictions will be used to calculate the metrics\n",
    "            y_pred = torch.cat([y_pred, nn.Softmax(dim=1)(classification)])\n",
    "            loss = criterion(classification, y)\n",
    "            total_loss += loss.item()\n",
    "            \n",
    "            progress_bar.set_postfix(loss=loss.item())\n",
    "    \n",
    "    y_pred = y_pred.cpu()\n",
    "    print(f\"Evaluation Loss: {total_loss / len(dataloader)}\")\n",
    "    return y_pred\n",
    "\n",
    "model = ResNetNoiseModel(num_classes=3).cuda()\n",
    "criterion = nn.CrossEntropyLoss()\n",
    "optimizer = optim.Adam(model.parameters(), lr=3e-4)\n",
    "\n",
    "train(model, train_loader, criterion, optimizer, num_epochs=10)\n",
    "y_pred = evaluate(model, test_loader, criterion)"
   ]
  },
  {
   "cell_type": "code",
   "execution_count": null,
   "metadata": {},
   "outputs": [],
   "source": [
    "# Saving the model\n",
    "torch.save(model, \"model.pt\")"
   ]
  },
  {
   "cell_type": "code",
   "execution_count": null,
   "metadata": {},
   "outputs": [
    {
     "name": "stdout",
     "output_type": "stream",
     "text": [
      "Multi-Class ROC AUC Score: 0.9835185333333333\n"
     ]
    }
   ],
   "source": [
    "from sklearn.metrics import roc_auc_score\n",
    "\n",
    "# Creating labels for true values\n",
    "class_map = {'no':0., \n",
    "            'sphere':1.,\n",
    "            'vort':2.}\n",
    "func = np.vectorize(lambda x: class_map[x])\n",
    "y_true = func(y_val)\n",
    "\n",
    "auc_score = roc_auc_score(y_true, y_pred, multi_class='ovr')\n",
    "print(\"Multi-Class ROC AUC Score:\", auc_score)"
   ]
  },
  {
   "cell_type": "markdown",
   "metadata": {},
   "source": [
    "The ROC AUC score is quite decent, we will now plot the curve (**the boilerplate code for the curve was generated using GPT4**),"
   ]
  },
  {
   "cell_type": "code",
   "execution_count": 75,
   "metadata": {},
   "outputs": [
    {
     "data": {
      "image/png": "[encoded data removed]",
      "text/plain": [
       "<Figure size 576x432 with 1 Axes>"
      ]
     },
     "metadata": {
      "needs_background": "light"
     },
     "output_type": "display_data"
    }
   ],
   "source": [
    "import matplotlib.pyplot as plt\n",
    "from sklearn.metrics import roc_curve, auc\n",
    "from sklearn.preprocessing import label_binarize\n",
    "\n",
    "n_classes = y_pred.shape[1]\n",
    "y_true_bin = label_binarize(y_true, classes=np.arange(n_classes))\n",
    "\n",
    "# Compute ROC curve and AUC for each class\n",
    "fpr, tpr, roc_auc = {}, {}, {}\n",
    "for i in range(n_classes):\n",
    "    fpr[i], tpr[i], _ = roc_curve(y_true_bin[:, i], y_pred[:, i])\n",
    "    roc_auc[i] = auc(fpr[i], tpr[i])\n",
    "\n",
    "# Compute macro-average ROC\n",
    "all_fpr = np.unique(np.concatenate([fpr[i] for i in range(n_classes)]))\n",
    "mean_tpr = np.zeros_like(all_fpr)\n",
    "for i in range(n_classes):\n",
    "    mean_tpr += np.interp(all_fpr, fpr[i], tpr[i])\n",
    "mean_tpr /= n_classes\n",
    "roc_auc[\"macro\"] = auc(all_fpr, mean_tpr)\n",
    "\n",
    "# Plot\n",
    "plt.figure(figsize=(8, 6))\n",
    "colors = [\"blue\", \"red\", \"green\"]\n",
    "for i, color in zip(range(n_classes), colors):\n",
    "    plt.plot(fpr[i], tpr[i], color=color, lw=2, label=f\"Class {i} (AUC = {roc_auc[i]:.2f})\")\n",
    "\n",
    "plt.plot(all_fpr, mean_tpr, color=\"black\", linestyle=\"--\", label=f\"Macro-average (AUC = {roc_auc['macro']:.2f})\")\n",
    "plt.plot([0, 1], [0, 1], \"k--\", label='Random Guess Line', lw=2)\n",
    "plt.xlim([0.0, 1.0])\n",
    "plt.ylim([0.0, 1.05])\n",
    "plt.xlabel(\"False Positive Rate\")\n",
    "plt.ylabel(\"True Positive Rate\")\n",
    "plt.title(\"Multi-class ROC Curve\")\n",
    "plt.legend(loc=\"lower right\")\n",
    "plt.show()"
   ]
  },
  {
   "cell_type": "markdown",
   "metadata": {},
   "source": [
    "## End"
   ]
  }
 ],
 "metadata": {
  "kernelspec": {
   "display_name": "Python 3",
   "language": "python",
   "name": "python3"
  },
  "language_info": {
   "codemirror_mode": {
    "name": "ipython",
    "version": 3
   },
   "file_extension": ".py",
   "mimetype": "text/x-python",
   "name": "python",
   "nbconvert_exporter": "python",
   "pygments_lexer": "ipython3",
   "version": "3.10.12"
  }
 },
 "nbformat": 4,
 "nbformat_minor": 2
}
